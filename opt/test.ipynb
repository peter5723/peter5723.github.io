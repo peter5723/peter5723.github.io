{
 "cells": [
  {
   "cell_type": "code",
   "execution_count": 1,
   "metadata": {},
   "outputs": [
    {
     "name": "stdout",
     "output_type": "stream",
     "text": [
      "拟合的二次函数为: f(x) = -0.33x^2 + 1.97x + -0.64, residue = 0.023904572186688212\n"
     ]
    },
    {
     "data": {
      "image/png": "[encoded data removed]",
      "text/plain": [
       "<Figure size 432x288 with 1 Axes>"
      ]
     },
     "metadata": {
      "needs_background": "light"
     },
     "output_type": "display_data"
    }
   ],
   "source": [
    "import numpy as np\n",
    "import matplotlib.pyplot as plt\n",
    "\n",
    "def quadratic_fit(x, y):\n",
    "    \"\"\"\n",
    "    使用最小二乘法拟合二次函数 f(x) = ax^2 + bx + c\n",
    "\n",
    "    参数：\n",
    "        x: 数据点的 x 坐标 (n维数组)\n",
    "        y: 数据点的 y 坐标 (n维数组)\n",
    "\n",
    "    返回：\n",
    "        a, b, c: 二次函数的系数\n",
    "    \"\"\"\n",
    "    # 构造矩阵 A 和向量 B\n",
    "    A = np.vstack([x**2, x, np.ones_like(x)]).T\n",
    "    B = y\n",
    "\n",
    "    # 求解线性方程组 A^T A [a, b, c]^T = A^T B\n",
    "    # coefficients = np.linalg.lstsq(A, B, rcond=None)[0]\n",
    "    # a, b, c = coefficients\n",
    "    \n",
    "    # 一维向量可以看做行向量或者列向量广播\n",
    "    x =  np.linalg.inv(A.T @ A) @ A.T @ y\n",
    "    r = y - A @ x\n",
    "    norm_r = np.sqrt(r.T @ r)\n",
    "    return x, norm_r\n",
    "\n",
    "# 示例数据\n",
    "x = np.array([1, 2, 3, 4, 5])\n",
    "y = np.array([1, 2, 2.3, 2 ,1])\n",
    "\n",
    "# 拟合二次函数\n",
    "[a, b, c] ,norm_r= quadratic_fit(x, y)\n",
    "print(f\"拟合的二次函数为: f(x) = {a:.2f}x^2 + {b:.2f}x + {c:.2f}, residue = {norm_r}\")\n",
    "\n",
    "# 绘制结果\n",
    "x_fit = np.linspace(min(x), max(x), 100)\n",
    "y_fit = a * x_fit**2 + b * x_fit + c\n",
    "\n",
    "plt.scatter(x, y, label=\"Data points\")\n",
    "plt.plot(x_fit, y_fit, color='red', label=f\"Curve: f(x) = {a:.2f}x^2 + {b:.2f}x + {c:.2f}\")\n",
    "plt.xlabel(\"x\")\n",
    "plt.ylabel(\"y\")\n",
    "plt.legend()\n",
    "plt.title(\"Quadratic Function\")\n",
    "plt.show()"
   ]
  },
  {
   "cell_type": "markdown",
   "metadata": {},
   "source": [
    "numpy 的一维矩阵会自动进行调整为行或列向量进行运算。"
   ]
  },
  {
   "cell_type": "code",
   "execution_count": 26,
   "metadata": {},
   "outputs": [
    {
     "name": "stdout",
     "output_type": "stream",
     "text": [
      "[ 7 10] [ 5 11]\n"
     ]
    }
   ],
   "source": [
    "x = np.array([1,2])\n",
    "A = np.array([[1,2],[3,4]])\n",
    "print(x@A, A@x)"
   ]
  },
  {
   "cell_type": "markdown",
   "metadata": {},
   "source": [
    "默认是行向量。"
   ]
  },
  {
   "cell_type": "code",
   "execution_count": 29,
   "metadata": {},
   "outputs": [
    {
     "name": "stdout",
     "output_type": "stream",
     "text": [
      "[1 2 3 4 5 6]\n",
      "[[1 2 3]\n",
      " [4 5 6]]\n",
      "[[1 4]\n",
      " [2 5]\n",
      " [3 6]]\n"
     ]
    }
   ],
   "source": [
    "a = np.hstack(([1,2,3], [4,5,6]))\n",
    "b = np.vstack(([1,2,3], [4,5,6]))\n",
    "c = np.vstack(([1,2,3], [4,5,6])).T\n",
    "print(a)\n",
    "print(b)\n",
    "print(c)"
   ]
  },
  {
   "cell_type": "markdown",
   "metadata": {},
   "source": [
    "列向量需要手动调整。"
   ]
  },
  {
   "cell_type": "code",
   "execution_count": 30,
   "metadata": {},
   "outputs": [
    {
     "name": "stdout",
     "output_type": "stream",
     "text": [
      "[[1]\n",
      " [2]\n",
      " [3]]\n"
     ]
    }
   ],
   "source": [
    "arr = np.array([1, 2, 3])\n",
    "\n",
    "# 转换为列向量\n",
    "col_vector = arr.reshape(-1, 1)\n",
    "print(col_vector)"
   ]
  }
 ],
 "metadata": {
  "kernelspec": {
   "display_name": "pytorch1",
   "language": "python",
   "name": "python3"
  },
  "language_info": {
   "codemirror_mode": {
    "name": "ipython",
    "version": 3
   },
   "file_extension": ".py",
   "mimetype": "text/x-python",
   "name": "python",
   "nbconvert_exporter": "python",
   "pygments_lexer": "ipython3",
   "version": "3.9.13"
  }
 },
 "nbformat": 4,
 "nbformat_minor": 2
}
